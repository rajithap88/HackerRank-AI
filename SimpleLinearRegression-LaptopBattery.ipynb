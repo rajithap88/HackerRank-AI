{
 "cells": [
  {
   "cell_type": "markdown",
   "metadata": {},
   "source": [
    "Fred is a very predictable man. For instance, when he uses his laptop, all he does is watch TV shows. He keeps on watching TV shows until his battery dies. Also, he is a very meticulous man, i.e. he pays great attention to minute details. He has been keeping logs of every time he charged his laptop, which includes how long he charged his laptop for and after that how long was he able to watch the TV. Now, Fred wants to use this log to predict how long will he be able to watch TV for when he starts so that he can plan his activities after watching his TV shows accordingly.\n",
    "\n",
    "Challenge\n",
    "\n",
    "You are given access to Fred’s laptop charging log by reading from the file “trainingdata.txt”. The training data file will consist of 100 lines, each with 2 comma-separated numbers.\n",
    "\n",
    "The first number denotes the amount of time the laptop was charged.\n",
    "The second number denotes the amount of time the battery lasted.\n",
    "The training data file can be downloaded here (this will be the same training data used when your program is run). The input for each of the test cases will consist of exactly 1 number rounded to 2 decimal places. For each input, output 1 number: the amount of time you predict his battery will last.\n",
    "\n",
    "Sample Input\n",
    "\n",
    "1.50\n",
    "\n",
    "Sample Output\n",
    "\n",
    "3.00"
   ]
  },
  {
   "cell_type": "code",
   "execution_count": 2,
   "metadata": {},
   "outputs": [],
   "source": [
    "import pandas as pd\n",
    "import numpy as np\n",
    "import os"
   ]
  },
  {
   "cell_type": "code",
   "execution_count": 3,
   "metadata": {},
   "outputs": [
    {
     "data": {
      "text/plain": [
       "'C:\\\\Users\\\\rpandiniboyini\\\\Downloads\\\\Kaligia\\\\Untitled Folder 1'"
      ]
     },
     "execution_count": 3,
     "metadata": {},
     "output_type": "execute_result"
    }
   ],
   "source": [
    "PATH = os.getcwd()\n",
    "PATH"
   ]
  },
  {
   "cell_type": "code",
   "execution_count": 4,
   "metadata": {},
   "outputs": [],
   "source": [
    "InputData = PATH + \"\\\\trainingdata.txt\""
   ]
  },
  {
   "cell_type": "code",
   "execution_count": 33,
   "metadata": {},
   "outputs": [
    {
     "name": "stdout",
     "output_type": "stream",
     "text": [
      "maxlife 8.0\n",
      "[7.14, 7.82, 7.02, 5.5, 9.15, 4.87, 8.08, 5.58, 9.13, 5.47, 4.37, 5.31, 6.13, 4.61, 6.39, 9.69, 5.33, 6.37, 5.55, 7.8, 7.79, 9.71, 8.38, 5.94, 9.2, 4.15, 8.43, 5.68, 8.21, 4.93, 5.75, 4.39, 7.53, 11.72, 4.64, 4.71, 9.33, 9.29, 8.49, 5.39, 6.48, 4.11, 8.79, 5.96, 5.26, 6.05, 4.35, 6.71, 7.37, 5.77, 4.38, 8.06, 8.05, 6.65]\n",
      "{2.81: 5.62, 2.72: 5.44, 3.87: 7.74, 1.9: 3.8, 0.14: 0.28, 2.0: 4.0, 0.8: 1.6, 0.0: 0.0, 1.78: 3.56, 3.45: 6.9, 3.53: 7.06, 1.76: 3.52, 0.02: 0.04, 2.06: 4.12, 2.24: 4.48, 1.11: 2.22, 2.33: 4.66, 1.83: 3.66, 1.14: 2.28, 1.75: 3.5, 2.16: 4.32, 1.26: 2.52, 3.97: 7.94, 1.98: 3.96, 1.66: 3.32, 2.04: 4.08, 3.77: 7.54, 2.15: 4.3, 1.58: 3.16, 1.27: 2.54, 3.47: 6.94, 1.85: 3.7, 0.13: 0.26, 1.44: 2.88, 3.42: 6.84, 1.89: 3.78, 0.39: 0.78, 1.99: 3.98, 3.99: 7.98, 2.58: 5.16, 3.65: 7.3, 1.1: 2.2}\n",
      "sum_xys(sum of all (key*value)): 445.28799999999995\n",
      "sum_xs(sum of all keys): 84.97999999999998\n",
      "sum_ys(sum of all values): 169.95999999999995\n",
      "sum_x_sqrd(sum of all squared keys): 222.64399999999998\n",
      "minimum charging time for full battery is: 4.11\n",
      "time to charge battery is greater than minum,so it gives max battery life\n",
      "8.0\n"
     ]
    }
   ],
   "source": [
    "import sys\n",
    "#data = float(sys.stdin.readline())\n",
    "data = InputData\n",
    "training_data = {} #will store data dict\n",
    "data_num = 100 #100 training pts\n",
    "\n",
    "\n",
    "\"\"\"GETTING TRAINING DATA IN A USABLE FORM\"\"\"\n",
    "# returns list consisting of two comma-separated numbers\n",
    "def clean_input(string):\n",
    "    \n",
    "    new_pts= string.split(\",\") # newpts ['7.14', '8.00\\n']\n",
    "    #print(\"newpts\",new_pts)\n",
    "    return [float(x) for x in new_pts] # returning a clened data\n",
    "\n",
    "#puts training data into a handy dandy map (or I guess python calls it a dictionary)\n",
    "with open(InputData,\"r\") as training: # WITH OPEN to read input txt file using \"r\" parameter.We can use \"with\" statement in Python such that we don’t have to close the file handler\n",
    "    for i in range(0,data_num):\n",
    "        #below instance stores each line read\n",
    "        #print(\"training_readline\",training.readline())#readline() method returns one line from the file.\n",
    "        instance = clean_input(training.readline()) # cleanded data will be instance and output will b [7.14, 8.0]\n",
    "        #print(\"instance\",instance)\n",
    "        training_data[instance[0]] = instance[1]#here we are dictionary key-value pairs:output will b {7.14: 8.0}\n",
    "        #print(\"training_data\",training_data)\n",
    "\n",
    "max_life = max(training_data.values()) #max battery life\n",
    "max_case = [] #full battery, only need list - as we need only key elemnets-using thsi we take the minimum charging time for max battery life\n",
    "lin_case = {} # not full battery, dict - as we need both key & value elements\n",
    "print(\"maxlife\",max_life)\n",
    "\n",
    "                               \n",
    "\n",
    "#separates linear and plateau'd \n",
    "for key in training_data:\n",
    "    if training_data[key] < max_life:\n",
    "        lin_case[key] = training_data[key]\n",
    "    else:\n",
    "        max_case.append(key)\n",
    "\n",
    "full_battery = min(max_case) #minimum charging time for max battery life\n",
    "print(max_case) # collecting only key elemnets as valueis always constant(8.0)\n",
    "print(lin_case) # collecting both key & values\n",
    "\n",
    "\"\"\"FUN WITH LINEAR REGRESSION\"\"\"\n",
    "#linear regression!!!!!! <3 stats!\n",
    "#gotta get that... least squares approximation\n",
    "\n",
    "def sum_xys(dict):\n",
    "    total = 0\n",
    "    # x is all key elements-is laptop charged values\n",
    "    #dict[x] is all value emenets-battery time\n",
    "    \n",
    "    for x in dict:\n",
    "        #print(\"x:\",x)\n",
    "        #print(\"dict[x]:\",dict[x])\n",
    "        total += (x * dict[x])\n",
    "    print(\"sum_xys(sum of all (key*value)):\",total)\n",
    "    return float(total)\n",
    "\n",
    "def sum_xs(dict):\n",
    "    total = 0\n",
    "    for x in dict:\n",
    "        total += x\n",
    "    print(\"sum_xs(sum of all keys):\",total)\n",
    "    return float(total)\n",
    "\n",
    "def sum_ys(dict):\n",
    "    total = 0\n",
    "    for x in dict:\n",
    "        total += dict[x]\n",
    "    print(\"sum_ys(sum of all values):\",total)\n",
    "    return float(total)\n",
    "\n",
    "def sum_x_sqrd(dict):\n",
    "    total = 0\n",
    "    for x in dict:\n",
    "        total += x**2\n",
    "    print(\"sum_x_sqrd(sum of all squared keys):\",total)\n",
    "    return float(total)\n",
    "\n",
    "#gives a list containing the m and b of y=mx+b best fit line\n",
    "def lin_regr(dict):\n",
    "    n = len(dict)\n",
    "    xys = sum_xys(dict)\n",
    "    xs = sum_xs(dict)\n",
    "    ys = sum_ys(dict)\n",
    "    x_sqrd = sum_x_sqrd(dict)\n",
    "    \n",
    "    #below are formulas\n",
    "    m = ((n * xys) - (xs * ys)) / ((n * x_sqrd) - (xs**2))\n",
    "    b = ((x_sqrd * ys) - (xs * xys)) / ((n * x_sqrd) - (xs**2))\n",
    "    \n",
    "    return [m,b]\n",
    "\n",
    "#and.... here we go!!\n",
    "lin_vars = lin_regr(lin_case)\n",
    "\n",
    "\"\"\"ESTIMATE NEW BATTERY LIFE\"\"\"\n",
    "#remember, full_battery = min charge time for full battery\n",
    "      #and max_life = max battery life\n",
    "      #and lin_vars = list of [m,b] for y=mx+b\n",
    "def est_life(chrg_time):\n",
    "    print(\"minimum charging time for full battery is:\",full_battery)\n",
    "    if (chrg_time >= full_battery):\n",
    "        print(\"time to charge battery is greater than minum,so it gives max battery life\")\n",
    "        batt_life = max_life\n",
    "    else:\n",
    "        m = lin_vars[0]\n",
    "        b = lin_vars[1]\n",
    "        batt_life = (m * chrg_time) + b\n",
    "    return batt_life\n",
    "\n",
    "\n",
    "\"\"\"NOW LETS DO THIS\"\"\"\n",
    "print (est_life(8.12))"
   ]
  },
  {
   "cell_type": "code",
   "execution_count": null,
   "metadata": {},
   "outputs": [],
   "source": []
  }
 ],
 "metadata": {
  "kernelspec": {
   "display_name": "Python 3",
   "language": "python",
   "name": "python3"
  },
  "language_info": {
   "codemirror_mode": {
    "name": "ipython",
    "version": 3
   },
   "file_extension": ".py",
   "mimetype": "text/x-python",
   "name": "python",
   "nbconvert_exporter": "python",
   "pygments_lexer": "ipython3",
   "version": "3.7.6"
  }
 },
 "nbformat": 4,
 "nbformat_minor": 4
}
