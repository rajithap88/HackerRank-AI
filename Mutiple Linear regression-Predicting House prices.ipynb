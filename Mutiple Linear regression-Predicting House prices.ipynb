{
 "metadata": {
  "language_info": {
   "codemirror_mode": {
    "name": "ipython",
    "version": 3
   },
   "file_extension": ".py",
   "mimetype": "text/x-python",
   "name": "python",
   "nbconvert_exporter": "python",
   "pygments_lexer": "ipython3",
   "version": 3
  },
  "orig_nbformat": 2
 },
 "nbformat": 4,
 "nbformat_minor": 2,
 "cells": [
  {
   "cell_type": "code",
   "execution_count": null,
   "metadata": {},
   "outputs": [],
   "source": [
    "Objective\n",
    "In this challenge, we practice using multiple linear regression to predict housing prices. Check out the Resources tab for helpful videos!\n",
    "\n",
    "Task\n",
    "Charlie wants to buy a house. He does a detailed survey of the area where he wants to live, in which he quantifies, normalizes, and maps the desirable features of houses to values on a scale of  to  so the data can be assembled into a table. If Charlie noted  features, each row contains  space-separated values followed by the house price in dollars per square foot (making for a total of  columns). If Charlie makes observations about  houses, his observation table has  rows. This means that the table has a total of  entries.\n",
    "\n",
    "Unfortunately, he was only able to get the price per square foot for certain houses and thus needs your help estimating the prices of the rest! Given the feature and pricing data for a set of houses, help Charlie estimate the price per square foot of the houses for which he has compiled feature data but no pricing.\n",
    "\n",
    "Important Observation: The prices per square foot form an approximately linear function for the features quantified in Charlie's table. For the purposes of prediction, you need to figure out this linear function.\n",
    "\n",
    "Recommended Technique: Use a regression-based technique. At this point, you are not expected to account for bias and variance trade-offs.\n",
    "\n",
    "Input Format\n",
    "\n",
    "The first line contains  space-separated integers,  (the number of observed features) and  (the number of rows/houses for which Charlie has noted both the features and price per square foot).\n",
    "The  subsequent lines each contain  space-separated floating-point numbers describing a row in the table; the first  elements are the noted features for a house, and the very last element is its price per square foot.\n",
    "\n",
    "The next line (following the table) contains a single integer, , denoting the number of houses for for which Charlie noted features but does not know the price per square foot.\n",
    "The  subsequent lines each contain  space-separated floating-point numbers describing the features of a house for which pricing is not known.\n",
    "\n",
    "Constraints\n",
    "\n"
   ]
  },
  {
   "cell_type": "code",
   "execution_count": null,
   "metadata": {},
   "outputs": [],
   "source": [
    "Sample Input:\n",
    "2 7\n",
    "0.18 0.89 109.85\n",
    "1.0 0.26 155.72\n",
    "0.92 0.11 137.66\n",
    "0.07 0.37 76.17\n",
    "0.85 0.16 139.75\n",
    "0.99 0.41 162.6\n",
    "0.87 0.47 151.77\n",
    "4\n",
    "0.49 0.18\n",
    "0.57 0.83\n",
    "0.56 0.64\n",
    "0.76 0.18\n",
    "\n",
    "Sample Output:\n",
    "105.22\n",
    "142.68\n",
    "132.94\n",
    "129.71"
   ]
  },
  {
   "cell_type": "code",
   "execution_count": null,
   "metadata": {},
   "outputs": [],
   "source": [
    "from sklearn import linear_model\n",
    "\n",
    "f, n = input().split()\n",
    "f = int(f)\n",
    "n = int(n)\n",
    "\n",
    "clf = linear_model.LinearRegression()\n",
    "x_train = []\n",
    "y_train = []\n",
    "\n",
    "for i in range(n):\n",
    "    tmp = [float(n) for n in input().split()]\n",
    "    x_train.append(tmp[0: len(tmp) - 1])\n",
    "    y_train.append(tmp[len(tmp) - 1])\n",
    "\n",
    "clf.fit(x_train, y_train)\n",
    "\n",
    "x_test = []\n",
    "n = int(input())\n",
    "for i in range(n):\n",
    "    tmp = [float(n) for n in input().split()]\n",
    "    x_test.append(tmp)\n",
    "\n",
    "y_test = clf.predict(x_test)\n",
    "for y in y_test:\n",
    "    print(y)"
   ]
  }
 ]
}