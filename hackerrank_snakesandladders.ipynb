{
 "cells": [
  {
   "cell_type": "markdown",
   "metadata": {},
   "source": [
    "#### Hackerrank solution"
   ]
  },
  {
   "cell_type": "markdown",
   "metadata": {},
   "source": [
    "### SNAKES AND LADDERS PROBLEM"
   ]
  },
  {
   "cell_type": "markdown",
   "metadata": {},
   "source": [
    "The idea here is to visualise the game board as a graph where the number of vertices are equal to the number of cells on the board. The approach boils down to the solution of shortest path algorithm. But here the weights associated with each path is the same.\n",
    "The only task that needs to be done here is to determine where the edges and vertices lie, which is dependent on the positioning of ladder and snakes."
   ]
  },
  {
   "cell_type": "code",
   "execution_count": null,
   "metadata": {},
   "outputs": [],
   "source": [
    "import random\n",
    "\n",
    "T = int(input())\n",
    "for i in range(T):\n",
    "    prob = [float(j) for j in input().split(',')]\n",
    "    lad,snk = [int(j) for j in input().split(',')]\n",
    "    \n",
    "    vals = input().split()\n",
    "    lads = {}                                                         # computing ladders\n",
    "    for j in vals:\n",
    "        start,end = [int(k) for k in j.split(',')]\n",
    "        lads[start] = end\n",
    "        \n",
    "    vals = input().split()\n",
    "    snks = {}                                                         # computing snakes\n",
    "    for j in vals:\n",
    "        start,end = [int(k) for k in j.split(',')]\n",
    "        snks[start] = end\n",
    "        \n",
    "    totalCount = 0\n",
    "    totalSum = 0\n",
    "    for j in range(5000):\n",
    "        pos = 1\n",
    "        count = 0\n",
    "        while count < 1000:                                    # prob for diff values of dice\n",
    "            m = random.uniform(0,1)\n",
    "            move = 0\n",
    "            if m < prob[0]:\n",
    "                move = 1\n",
    "            elif m < prob[0]+prob[1]:\n",
    "                move = 2\n",
    "            elif m < prob[0]+prob[1]+prob[2]:\n",
    "                move = 3\n",
    "            elif m < prob[0]+prob[1]+prob[2]+prob[3]:\n",
    "                move = 4\n",
    "            elif m < prob[0]+prob[1]+prob[2]+prob[3]+prob[4]:\n",
    "                move = 5\n",
    "            else:\n",
    "                move = 6\n",
    "            if pos+move <= 100:\n",
    "                pos += move\n",
    "                if pos in lads:\n",
    "                    pos = lads[pos]\n",
    "                elif pos in snks:\n",
    "                    pos = snks[pos]\n",
    "            count += 1\n",
    "            if pos == 100:\n",
    "                totalCount += 1\n",
    "                totalSum += count\n",
    "                break\n",
    "    print(round(totalSum/totalCount))"
   ]
  }
 ],
 "metadata": {
  "kernelspec": {
   "display_name": "Python 3",
   "language": "python",
   "name": "python3"
  },
  "language_info": {
   "codemirror_mode": {
    "name": "ipython",
    "version": 3
   },
   "file_extension": ".py",
   "mimetype": "text/x-python",
   "name": "python",
   "nbconvert_exporter": "python",
   "pygments_lexer": "ipython3",
   "version": "3.8.3"
  }
 },
 "nbformat": 4,
 "nbformat_minor": 4
}
