{
 "cells": [
  {
   "cell_type": "code",
   "execution_count": null,
   "metadata": {},
   "outputs": [],
   "source": [
    "t = int(input())\n",
    "for _ in range(t):\n",
    "    n = int(input())\n",
    "    gpa = list(map(float,input().strip().split(' ')))\n",
    "    apt = []\n",
    "    temp = list(map(float,input().strip().split(' ')))\n",
    "    apt.append(temp)\n",
    "    temp = list(map(float,input().strip().split(' ')))\n",
    "    apt.append(temp)\n",
    "    temp = list(map(float,input().strip().split(' ')))\n",
    "    apt.append(temp)\n",
    "    temp = list(map(float,input().strip().split(' ')))\n",
    "    apt.append(temp)\n",
    "    temp = list(map(float,input().strip().split(' ')))\n",
    "    apt.append(temp)\n",
    "    max_val = 0\n",
    "    pos = 0\n",
    "    for i in range(5):\n",
    "        x = apt[i]\n",
    "        y = gpa\n",
    "        x_prod_y = []\n",
    "        x_sq = []\n",
    "        y_sq = []\n",
    "        if(sum(x) == 0):\n",
    "            continue\n",
    "        for j in range(len(apt[i])):\n",
    "            x_prod_y.append(x[j]*y[j])\n",
    "            x_sq.append(x[j]**2)\n",
    "            y_sq.append(y[j]**2)\n",
    "        if(n*sum(x_sq)-(sum(x)**2) == 0):\n",
    "            continue\n",
    "        gamma = (n*sum(x_prod_y)-sum(x)*sum(y))/((n*sum(x_sq)-(sum(x)**2))*(n*sum(y_sq)-(sum(y)**2)))**(0.5)\n",
    "        if(i == 0):\n",
    "            max_val = gamma\n",
    "            pos = i+1\n",
    "        else:\n",
    "            if(max_val < gamma):\n",
    "                max_val = gamma\n",
    "                pos = i+1\n",
    "    print(pos)"
   ]
  }
 ],
 "metadata": {
  "kernelspec": {
   "display_name": "Python 3",
   "language": "python",
   "name": "python3"
  },
  "language_info": {
   "codemirror_mode": {
    "name": "ipython",
    "version": 3
   },
   "file_extension": ".py",
   "mimetype": "text/x-python",
   "name": "python",
   "nbconvert_exporter": "python",
   "pygments_lexer": "ipython3",
   "version": "3.8.3"
  }
 },
 "nbformat": 4,
 "nbformat_minor": 4
}
