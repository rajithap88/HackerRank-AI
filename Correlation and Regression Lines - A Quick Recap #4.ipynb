{
 "cells": [
  {
   "cell_type": "markdown",
   "metadata": {},
   "source": [
    "The two regression lines of a bivariate distribution are:\n",
    "4X – 5Y + 33 = 0 (line of y on x) 20X – 9Y – 107 = 0 (line of x on y).\n",
    "Estimate the value of X when  = 7. Compute the correct answer to one decimal place.\n",
    "\n",
    "Output Format\n",
    "In the text box, enter the floating point/decimal value required. Do not lead any leading or trailing spaces. Your answer may look like: 7.2\n",
    "\n",
    "This is NOT the actual answer - just the format in which you should provide your answer."
   ]
  },
  {
   "cell_type": "code",
   "execution_count": 1,
   "metadata": {},
   "outputs": [
    {
     "name": "stdout",
     "output_type": "stream",
     "text": [
      "8.5\n"
     ]
    }
   ],
   "source": [
    "y = 7\n",
    "\n",
    "# 20x – 9y – 107 = 0\n",
    "val_x = (9 * y + 107) / 20\n",
    "\n",
    "# Result: 8.5\n",
    "print (round(val_x, 1))"
   ]
  },
  {
   "cell_type": "code",
   "execution_count": null,
   "metadata": {},
   "outputs": [],
   "source": []
  }
 ],
 "metadata": {
  "kernelspec": {
   "display_name": "Python 3",
   "language": "python",
   "name": "python3"
  },
  "language_info": {
   "codemirror_mode": {
    "name": "ipython",
    "version": 3
   },
   "file_extension": ".py",
   "mimetype": "text/x-python",
   "name": "python",
   "nbconvert_exporter": "python",
   "pygments_lexer": "ipython3",
   "version": "3.7.6"
  }
 },
 "nbformat": 4,
 "nbformat_minor": 4
}