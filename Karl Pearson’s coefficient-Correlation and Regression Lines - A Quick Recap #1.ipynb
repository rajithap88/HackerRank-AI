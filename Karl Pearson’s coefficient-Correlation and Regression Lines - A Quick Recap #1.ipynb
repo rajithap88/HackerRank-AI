{
 "metadata": {
  "language_info": {
   "codemirror_mode": {
    "name": "ipython",
    "version": 3
   },
   "file_extension": ".py",
   "mimetype": "text/x-python",
   "name": "python",
   "nbconvert_exporter": "python",
   "pygments_lexer": "ipython3",
   "version": 3
  },
  "orig_nbformat": 2
 },
 "nbformat": 4,
 "nbformat_minor": 2,
 "cells": [
  {
   "cell_type": "code",
   "execution_count": null,
   "metadata": {},
   "outputs": [],
   "source": [
    "Here are the test scores of 10 students in physics and history:\n",
    "\n",
    "Physics Scores  15  12  8   8   7   7   7   6   5   3\n",
    "History Scores  10  25  17  11  13  17  20  13  9   15\n",
    "Compute Karl Pearson’s coefficient of correlation between these scores.\n",
    "Compute the answer correct to three decimal places.\n",
    "\n",
    "Output Format\n",
    "\n",
    "In the text box, using the language of your choice, print the floating point/decimal value required. Do not leave any leading or trailing spaces.\n",
    "\n",
    "For example, if your answer is 0.255. In python you can print using\n",
    "\n",
    "print(\"0.255\")"
   ]
  },
  {
   "cell_type": "code",
   "execution_count": null,
   "metadata": {},
   "outputs": [],
   "source": [
    "# Enter your code here. Read input from STDIN. Print output to STDOUT\n",
    "#RAMESH CHANDRA\n",
    "#import numpy \n",
    "import math\n",
    "x = [15 , 12 , 8  , 8 ,  7 ,  7 ,  7 ,  6   , 5  , 3]\n",
    "y = [10  ,25 , 17  ,11 , 13 , 17 , 20 , 13 , 9  , 15]\n",
    "#calculate mean of x and y\n",
    "sum_x,sum_y=0,0\n",
    "for i in range(len(x)):\n",
    "    sum_x,sum_y=sum_x+x[i],sum_y+y[i]\n",
    "\n",
    "mean_x = float(sum_x)/len(x)\n",
    "mean_y = float(sum_y)/len(y)\n",
    "#now calculate r = A/sqrt(B*C)\n",
    "# A = sum ((x[i]-x_mean_x)*(y[i]-mean_y)) \n",
    "# B = sum(x[i]-mean_x)^2\n",
    "# C = sum(y[i]-mean_y)^2\n",
    "\n",
    "A, B , C ,= 0,0,0;\n",
    "for i in range(len(x)):\n",
    "    A += (x[i]-mean_x)*(y[i]-mean_y)\n",
    "    B += (x[i]-mean_x)**2\n",
    "    C += (y[i]-mean_y)**2\n",
    "#Co-relation Coefficient\n",
    "ans = float(A)/math.sqrt(B*C)\n",
    "print (ans)"
   ]
  }
 ]
}