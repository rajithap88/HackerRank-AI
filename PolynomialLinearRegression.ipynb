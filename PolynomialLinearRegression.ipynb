{
 "cells": [
  {
   "cell_type": "code",
   "execution_count": 1,
   "metadata": {},
   "outputs": [],
   "source": [
    "import pandas as pd\n",
    "import numpy as np\n",
    "import os"
   ]
  },
  {
   "cell_type": "code",
   "execution_count": 2,
   "metadata": {},
   "outputs": [
    {
     "data": {
      "text/plain": [
       "'C:\\\\Users\\\\rpandiniboyini\\\\Downloads\\\\Kaligia\\\\Untitled Folder 1\\\\PolynomialLieanrRegresion'"
      ]
     },
     "execution_count": 2,
     "metadata": {},
     "output_type": "execute_result"
    }
   ],
   "source": [
    "PATH = os.getcwd()\n",
    "PATH"
   ]
  },
  {
   "cell_type": "code",
   "execution_count": 3,
   "metadata": {},
   "outputs": [],
   "source": [
    "InputData = PATH + \"\\\\trainingdata.txt\""
   ]
  },
  {
   "cell_type": "code",
   "execution_count": 13,
   "metadata": {},
   "outputs": [],
   "source": [
    "import re\n",
    "\n",
    "df_list = []\n",
    "with open(InputData) as f:\n",
    "    for line in f:\n",
    "        # remove whitespace at the start and the newline at the end\n",
    "        line = line.strip()\n",
    "        # split each column on whitespace\n",
    "        columns = re.split('\\s+', line, maxsplit=2)\n",
    "        df_list.append(columns)"
   ]
  },
  {
   "cell_type": "code",
   "execution_count": 14,
   "metadata": {},
   "outputs": [
    {
     "data": {
      "text/html": [
       "<div>\n",
       "<style scoped>\n",
       "    .dataframe tbody tr th:only-of-type {\n",
       "        vertical-align: middle;\n",
       "    }\n",
       "\n",
       "    .dataframe tbody tr th {\n",
       "        vertical-align: top;\n",
       "    }\n",
       "\n",
       "    .dataframe thead th {\n",
       "        text-align: right;\n",
       "    }\n",
       "</style>\n",
       "<table border=\"1\" class=\"dataframe\">\n",
       "  <thead>\n",
       "    <tr style=\"text-align: right;\">\n",
       "      <th></th>\n",
       "      <th>0</th>\n",
       "      <th>1</th>\n",
       "      <th>2</th>\n",
       "    </tr>\n",
       "  </thead>\n",
       "  <tbody>\n",
       "    <tr>\n",
       "      <th>0</th>\n",
       "      <td>0.44</td>\n",
       "      <td>0.68</td>\n",
       "      <td>511.14</td>\n",
       "    </tr>\n",
       "    <tr>\n",
       "      <th>1</th>\n",
       "      <td>0.99</td>\n",
       "      <td>0.23</td>\n",
       "      <td>717.1</td>\n",
       "    </tr>\n",
       "    <tr>\n",
       "      <th>2</th>\n",
       "      <td>0.84</td>\n",
       "      <td>0.29</td>\n",
       "      <td>607.91</td>\n",
       "    </tr>\n",
       "    <tr>\n",
       "      <th>3</th>\n",
       "      <td>0.28</td>\n",
       "      <td>0.45</td>\n",
       "      <td>270.4</td>\n",
       "    </tr>\n",
       "    <tr>\n",
       "      <th>4</th>\n",
       "      <td>0.07</td>\n",
       "      <td>0.83</td>\n",
       "      <td>289.88</td>\n",
       "    </tr>\n",
       "  </tbody>\n",
       "</table>\n",
       "</div>"
      ],
      "text/plain": [
       "      0     1       2\n",
       "0  0.44  0.68  511.14\n",
       "1  0.99  0.23   717.1\n",
       "2  0.84  0.29  607.91\n",
       "3  0.28  0.45   270.4\n",
       "4  0.07  0.83  289.88"
      ]
     },
     "execution_count": 14,
     "metadata": {},
     "output_type": "execute_result"
    }
   ],
   "source": [
    "df = pd.DataFrame(df_list)\n",
    "df.head()"
   ]
  },
  {
   "cell_type": "code",
   "execution_count": 15,
   "metadata": {},
   "outputs": [
    {
     "data": {
      "text/plain": [
       "Index(['a', 'b', 'c'], dtype='object')"
      ]
     },
     "execution_count": 15,
     "metadata": {},
     "output_type": "execute_result"
    }
   ],
   "source": [
    "df = df.rename(columns={0: \"a\", 1: \"b\", 2: \"c\"})\n",
    "df.columns"
   ]
  },
  {
   "cell_type": "code",
   "execution_count": 16,
   "metadata": {},
   "outputs": [
    {
     "data": {
      "text/html": [
       "<div>\n",
       "<style scoped>\n",
       "    .dataframe tbody tr th:only-of-type {\n",
       "        vertical-align: middle;\n",
       "    }\n",
       "\n",
       "    .dataframe tbody tr th {\n",
       "        vertical-align: top;\n",
       "    }\n",
       "\n",
       "    .dataframe thead th {\n",
       "        text-align: right;\n",
       "    }\n",
       "</style>\n",
       "<table border=\"1\" class=\"dataframe\">\n",
       "  <thead>\n",
       "    <tr style=\"text-align: right;\">\n",
       "      <th></th>\n",
       "      <th>a</th>\n",
       "      <th>b</th>\n",
       "      <th>c</th>\n",
       "    </tr>\n",
       "  </thead>\n",
       "  <tbody>\n",
       "    <tr>\n",
       "      <th>0</th>\n",
       "      <td>0.44</td>\n",
       "      <td>0.68</td>\n",
       "      <td>511.14</td>\n",
       "    </tr>\n",
       "    <tr>\n",
       "      <th>1</th>\n",
       "      <td>0.99</td>\n",
       "      <td>0.23</td>\n",
       "      <td>717.1</td>\n",
       "    </tr>\n",
       "    <tr>\n",
       "      <th>2</th>\n",
       "      <td>0.84</td>\n",
       "      <td>0.29</td>\n",
       "      <td>607.91</td>\n",
       "    </tr>\n",
       "    <tr>\n",
       "      <th>3</th>\n",
       "      <td>0.28</td>\n",
       "      <td>0.45</td>\n",
       "      <td>270.4</td>\n",
       "    </tr>\n",
       "    <tr>\n",
       "      <th>4</th>\n",
       "      <td>0.07</td>\n",
       "      <td>0.83</td>\n",
       "      <td>289.88</td>\n",
       "    </tr>\n",
       "  </tbody>\n",
       "</table>\n",
       "</div>"
      ],
      "text/plain": [
       "      a     b       c\n",
       "0  0.44  0.68  511.14\n",
       "1  0.99  0.23   717.1\n",
       "2  0.84  0.29  607.91\n",
       "3  0.28  0.45   270.4\n",
       "4  0.07  0.83  289.88"
      ]
     },
     "execution_count": 16,
     "metadata": {},
     "output_type": "execute_result"
    }
   ],
   "source": [
    "df.head()"
   ]
  },
  {
   "cell_type": "code",
   "execution_count": 21,
   "metadata": {},
   "outputs": [],
   "source": [
    "y=df['c']\n",
    "x=df.drop(['c'], axis=1)"
   ]
  },
  {
   "cell_type": "code",
   "execution_count": 24,
   "metadata": {},
   "outputs": [
    {
     "name": "stdout",
     "output_type": "stream",
     "text": [
      "506.58\n",
      "720.84\n",
      "611.68\n",
      "258.06\n",
      "286.45\n",
      "839.53\n",
      "1044.98\n",
      "459.54\n",
      "643.06\n",
      "518.03\n",
      "174.7\n",
      "1241.4\n",
      "891.4\n",
      "1321.88\n",
      "166.18\n",
      "271.24\n",
      "521.59\n",
      "532.04\n",
      "934.52\n",
      "844.76\n",
      "650.61\n",
      "299.15\n",
      "1045.88\n",
      "327.27\n",
      "161.03\n",
      "112.81\n",
      "356.64\n",
      "883.48\n",
      "297.57\n",
      "244.98\n",
      "337.32\n",
      "1183.85\n",
      "405.58\n",
      "905.8\n",
      "532.02\n",
      "644.39\n",
      "297.15\n",
      "157.71\n",
      "242.36\n",
      "1433.55\n",
      "601.4\n",
      "167.2\n",
      "602.06\n",
      "359.06\n",
      "677.02\n",
      "1198.8\n",
      "270.72\n",
      "412.41\n",
      "76.7\n",
      "164.26\n",
      "81.62\n",
      "650.14\n",
      "366.72\n",
      "705.37\n",
      "623.64\n",
      "142.69\n",
      "114.26\n",
      "323.6\n",
      "201.57\n",
      "1349.31\n",
      "908.54\n",
      "480.59\n",
      "195.33\n",
      "198.87\n",
      "142.45\n",
      "748.64\n",
      "506.07\n",
      "1530.15\n",
      "161.87\n",
      "436.64\n",
      "103.01\n",
      "833.31\n",
      "163.53\n",
      "483.15\n",
      "532.56\n",
      "574.76\n",
      "967.23\n",
      "514.88\n",
      "1152.32\n",
      "1218.84\n",
      "789.98\n",
      "276.09\n",
      "690.99\n",
      "724.05\n",
      "286.26\n",
      "773.54\n",
      "132.15\n",
      "794.27\n",
      "318.85\n",
      "732.1\n",
      "669.22\n",
      "782.91\n",
      "1027.91\n",
      "227.85\n",
      "320.35\n",
      "632.38\n",
      "262.43\n",
      "702.28\n",
      "432.39\n",
      "596.56\n"
     ]
    }
   ],
   "source": [
    "from sklearn import linear_model\n",
    "from sklearn.preprocessing import PolynomialFeatures\n",
    "from sklearn.linear_model import LinearRegression\n",
    "polynomial_features= PolynomialFeatures(degree=2)\n",
    "x_poly = polynomial_features.fit_transform(x)\n",
    "\n",
    "model = LinearRegression()\n",
    "model.fit(x_poly, y)\n",
    "y_poly_pred = model.predict(x_poly)\n",
    "for i in range(len(y)):\n",
    "    print(round(y_poly_pred[i],2))"
   ]
  },
  {
   "cell_type": "markdown",
   "metadata": {},
   "source": [
    "# Test data"
   ]
  },
  {
   "cell_type": "code",
   "execution_count": 27,
   "metadata": {},
   "outputs": [
    {
     "data": {
      "text/html": [
       "<div>\n",
       "<style scoped>\n",
       "    .dataframe tbody tr th:only-of-type {\n",
       "        vertical-align: middle;\n",
       "    }\n",
       "\n",
       "    .dataframe tbody tr th {\n",
       "        vertical-align: top;\n",
       "    }\n",
       "\n",
       "    .dataframe thead th {\n",
       "        text-align: right;\n",
       "    }\n",
       "</style>\n",
       "<table border=\"1\" class=\"dataframe\">\n",
       "  <thead>\n",
       "    <tr style=\"text-align: right;\">\n",
       "      <th></th>\n",
       "      <th>a</th>\n",
       "      <th>b</th>\n",
       "    </tr>\n",
       "  </thead>\n",
       "  <tbody>\n",
       "    <tr>\n",
       "      <th>0</th>\n",
       "      <td>0.05</td>\n",
       "      <td>0.54</td>\n",
       "    </tr>\n",
       "    <tr>\n",
       "      <th>1</th>\n",
       "      <td>0.91</td>\n",
       "      <td>0.91</td>\n",
       "    </tr>\n",
       "    <tr>\n",
       "      <th>2</th>\n",
       "      <td>0.31</td>\n",
       "      <td>0.76</td>\n",
       "    </tr>\n",
       "    <tr>\n",
       "      <th>3</th>\n",
       "      <td>0.51</td>\n",
       "      <td>0.31</td>\n",
       "    </tr>\n",
       "  </tbody>\n",
       "</table>\n",
       "</div>"
      ],
      "text/plain": [
       "      a     b\n",
       "0  0.05  0.54\n",
       "1  0.91  0.91\n",
       "2  0.31  0.76\n",
       "3  0.51  0.31"
      ]
     },
     "execution_count": 27,
     "metadata": {},
     "output_type": "execute_result"
    }
   ],
   "source": [
    "InputData1 = PATH + \"\\\\test.txt\"\n",
    "import re\n",
    "\n",
    "df_list = []\n",
    "with open(InputData1) as f:\n",
    "    for line in f:\n",
    "        # remove whitespace at the start and the newline at the end\n",
    "        line = line.strip()\n",
    "        # split each column on whitespace\n",
    "        columns = re.split('\\s+', line, maxsplit=2)\n",
    "        df_list.append(columns)\n",
    "        \n",
    "df = pd.DataFrame(df_list)\n",
    "df = df.rename(columns={0: \"a\", 1: \"b\", 2: \"c\"})\n",
    "df.head()"
   ]
  },
  {
   "cell_type": "code",
   "execution_count": 31,
   "metadata": {},
   "outputs": [
    {
     "name": "stdout",
     "output_type": "stream",
     "text": [
      "170.97\n",
      "1303.88\n",
      "438.78\n",
      "339.25\n"
     ]
    }
   ],
   "source": [
    "x=df[['a','b']]\n",
    "\n",
    "x_poly = polynomial_features.fit_transform(x)\n",
    "y_poly_pred = model.predict(x_poly)\n",
    "for i in range(4):\n",
    "    print(round(y_poly_pred[i],2))"
   ]
  },
  {
   "cell_type": "markdown",
   "metadata": {},
   "source": [
    "# HackerRank code"
   ]
  },
  {
   "cell_type": "code",
   "execution_count": null,
   "metadata": {},
   "outputs": [],
   "source": [
    "# Enter your code here. Read input from STDIN. Print output to STDOUT\n",
    "# Import libraries\n",
    "from sklearn import linear_model\n",
    "from sklearn.preprocessing import PolynomialFeatures\n",
    "import numpy as np\n",
    "\n",
    "# Set data\n",
    "#1st row will b 2 100 means 2 features and 1000 rows-so below helps to split rows & features\n",
    "features, rows = map(int, input().split())\n",
    "#print(features,rows)#prints number of features & rows\n",
    "\n",
    "X, Y = [], []\n",
    "\n",
    "# Get the parameters X and Y for discovery the variables a and b\n",
    "for i in range(rows):\n",
    "    \n",
    "    x = [0]\n",
    "    #below cretaes a list with 3 variables-feature1value,feature2value,targetvalue\n",
    "    elements = list(map(float, input().split()))\n",
    "    #print(elements)\n",
    "    for j in range(len(elements)):\n",
    "        if j < features: # j starts from 0 and features value is 2,so we get forst two columns appended to x always and 3rd column values are appended to Y\n",
    "            x.append(elements[j])\n",
    "            \n",
    "        else:\n",
    "            Y.append(elements[j])\n",
    "    X.append(x) # X will have all the list of input features from row 0-99\n",
    "#print(X)\n",
    "# Set Polynomial Features\n",
    "poly = PolynomialFeatures(degree=3)\n",
    "\n",
    "# Set the model LinearRegression\n",
    "model = linear_model.LinearRegression()\n",
    "model.fit(poly.fit_transform(np.array(X)), Y)\n",
    "\n",
    "# Get the parameters X for discovery the Y\n",
    "new_rows = int(input())\n",
    "new_X = []\n",
    "for i in range(new_rows):\n",
    "    x = [0]\n",
    "    elements = list(map(float, input().split()))\n",
    "    for j in range(len(elements)):\n",
    "        x.append(elements[j])\n",
    "    new_X.append(x)\n",
    "\n",
    "# Gets the result and show on the screen\n",
    "result = model.predict(poly.fit_transform(np.array(new_X)))\n",
    "for i in range(len(result)):\n",
    "    print(round(result[i],2))\n"
   ]
  }
 ],
 "metadata": {
  "kernelspec": {
   "display_name": "Python 3",
   "language": "python",
   "name": "python3"
  },
  "language_info": {
   "codemirror_mode": {
    "name": "ipython",
    "version": 3
   },
   "file_extension": ".py",
   "mimetype": "text/x-python",
   "name": "python",
   "nbconvert_exporter": "python",
   "pygments_lexer": "ipython3",
   "version": "3.7.6"
  }
 },
 "nbformat": 4,
 "nbformat_minor": 4
}
