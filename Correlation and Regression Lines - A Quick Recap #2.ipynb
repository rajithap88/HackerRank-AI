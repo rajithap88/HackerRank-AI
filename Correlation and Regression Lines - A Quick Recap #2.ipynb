{
 "cells": [
  {
   "cell_type": "markdown",
   "metadata": {},
   "source": [
    "Here are the test scores of 10 students in physics and history:\n",
    "\n",
    "Physics Scores  15  12  8   8   7   7   7   6   5   3\n",
    "History Scores  10  25  17  11  13  17  20  13  9   15\n",
    "Compute the slope of the line of regression obtained while treating Physics as the independent variable. Compute the answer correct to three decimal places.\n",
    "\n",
    "Output Format\n",
    "\n",
    "In the text box, enter the floating point/decimal value required. Do not leave any leading or trailing spaces. Your answer may look like: 0.255\n",
    "\n",
    "This is NOT the actual answer - just the format in which you should provide your answer."
   ]
  },
  {
   "cell_type": "code",
   "execution_count": 2,
   "metadata": {},
   "outputs": [
    {
     "name": "stdout",
     "output_type": "stream",
     "text": [
      "0.208\n"
     ]
    }
   ],
   "source": [
    "import math\n",
    "x = [15 , 12 , 8  , 8 ,  7 ,  7 ,  7 ,  6   , 5  , 3]\n",
    "y = [10  ,25 , 17  ,11 , 13 , 17 , 20 , 13 , 9  , 15]\n",
    "#calculate mean of x and y\n",
    "sum_x,sum_y=0,0\n",
    "for i in range(len(x)):\n",
    "    sum_x,sum_y=sum_x+x[i],sum_y+y[i]\n",
    "\n",
    "mean_x = float(sum_x)/len(x)\n",
    "mean_y = float(sum_y)/len(y)\n",
    "#now calculate r = A/sqrt(B*C)\n",
    "# A = sum ((x[i]-x_mean_x)*(y[i]-mean_y)) \n",
    "# B = sum(x[i]-mean_x)^2\n",
    "# C = sum(y[i]-mean_y)^2\n",
    "\n",
    "A, B , C ,= 0,0,0;\n",
    "for i in range(len(x)):\n",
    "    A += (x[i]-mean_x)*(y[i]-mean_y)\n",
    "    B += (x[i]-mean_x)**2 # ** means power to\n",
    "    C += (y[i]-mean_y)**2\n",
    "#Co-relation Coefficient\n",
    "r = float(A)/math.sqrt(B*C)\n",
    "#slope  b = r*(sd_x/sd_y)\n",
    "#s_d and s_y are standard deviations of x and y respectively\n",
    "std_x = math.sqrt( (float(B)/(len(x))))\n",
    "std_y = math.sqrt( (float(C)/(len(y))))\n",
    "#final slop\n",
    "ans = float(r*std_y)/std_x\n",
    "print(\"%.3f\"%ans)"
   ]
  },
  {
   "cell_type": "code",
   "execution_count": null,
   "metadata": {},
   "outputs": [],
   "source": [
    "https://github.com/ramesh-chandra-saini/HackerRank"
   ]
  },
  {
   "cell_type": "code",
   "execution_count": 3,
   "metadata": {},
   "outputs": [
    {
     "data": {
      "text/plain": [
       "0.20833333333333331"
      ]
     },
     "execution_count": 3,
     "metadata": {},
     "output_type": "execute_result"
    }
   ],
   "source": [
    "import numpy as np\n",
    "import scipy as sp\n",
    "from scipy.stats import norm\n",
    "physicsScores=[15, 12,  8,  8,  7,  7,  7,  6, 5,  3]\n",
    "historyScores=[10, 25, 17, 11, 13, 17, 20, 13, 9, 15]\n",
    "sp.stats.linregress(physicsScores,historyScores).slope"
   ]
  },
  {
   "cell_type": "code",
   "execution_count": null,
   "metadata": {},
   "outputs": [],
   "source": [
    "https://techutils.in/blog/2017/04/11/hackerrank-correlation-and-regression-lines-solutions/"
   ]
  }
 ],
 "metadata": {
  "kernelspec": {
   "display_name": "Python 3",
   "language": "python",
   "name": "python3"
  },
  "language_info": {
   "codemirror_mode": {
    "name": "ipython",
    "version": 3
   },
   "file_extension": ".py",
   "mimetype": "text/x-python",
   "name": "python",
   "nbconvert_exporter": "python",
   "pygments_lexer": "ipython3",
   "version": "3.7.6-final"
  }
 },
 "nbformat": 4,
 "nbformat_minor": 4
}